{
  "nbformat": 4,
  "nbformat_minor": 0,
  "metadata": {
    "colab": {
      "name": "Untitled1.ipynb",
      "provenance": [],
      "authorship_tag": "ABX9TyNhiQlMIuwCrxQDijJInju8",
      "include_colab_link": true
    },
    "kernelspec": {
      "name": "python3",
      "display_name": "Python 3"
    },
    "language_info": {
      "name": "python"
    }
  },
  "cells": [
    {
      "cell_type": "markdown",
      "metadata": {
        "id": "view-in-github",
        "colab_type": "text"
      },
      "source": [
        "<a href=\"https://colab.research.google.com/github/ryhem1/checkpoint/blob/main/Untitled1.ipynb\" target=\"_parent\"><img src=\"https://colab.research.google.com/assets/colab-badge.svg\" alt=\"Open In Colab\"/></a>"
      ]
    },
    {
      "cell_type": "code",
      "execution_count": null,
      "metadata": {
        "id": "pl3q7WZFhFRn"
      },
      "outputs": [],
      "source": [
        "x=int(input(\"donner un entier\"))\n",
        "y=int(input(\"donner un entier\"))\n",
        "z=int(input(\"donner un entier\"))\n",
        "num=[x,y,z]\n",
        "print(\"result=\",num[0]*num[1]*num[2])"
      ]
    },
    {
      "cell_type": "code",
      "source": [
        "def last(n): return n[-1]\n",
        "\n",
        "def sort_list_last(tuples):\n",
        "  return sorted(tuples, key=last)\n",
        "\n",
        "print(sort_list_last([(2, 5), (1, 2), (4, 4), (2, 3), (2, 1)]))"
      ],
      "metadata": {
        "id": "4tdeSUXIbBOJ"
      },
      "execution_count": null,
      "outputs": []
    },
    {
      "cell_type": "code",
      "source": [
        "\n",
        "d1 = {\"a\": 100, \"b\": 200, \"c\":300}\n",
        "d2 = {\"a\": 300, \"b\": 200, \"d\":400}\n",
        "for key in d1:\n",
        "  if key in d2:\n",
        "    d2[key]=d1[key]+d2[key]\n",
        "  else:\n",
        "    d2[key]=d1[key]\n",
        "print (d2)\n",
        "\n",
        "\n"
      ],
      "metadata": {
        "id": "wry4uXeiC8SD"
      },
      "execution_count": null,
      "outputs": []
    },
    {
      "cell_type": "code",
      "source": [
        "n=int(input(\"donner un entier n= \"))\n",
        "dic={i:i*i for i in range(1,n+1)}\n",
        "print(dic)"
      ],
      "metadata": {
        "id": "be3AYwBg5PcY"
      },
      "execution_count": null,
      "outputs": []
    },
    {
      "cell_type": "code",
      "source": [
        "list= [('item1', '12.20'), ('item2', '15.10'), ('item3', '24.5')]\n",
        "print(sorted(list, key=lambda x: float(x[1]), reverse=True))\n"
      ],
      "metadata": {
        "colab": {
          "base_uri": "https://localhost:8080/"
        },
        "id": "-iUuFlCg6BHM",
        "outputId": "b3ca7e2d-75ad-4ea3-ce31-a11afc2c9868"
      },
      "execution_count": 19,
      "outputs": [
        {
          "output_type": "stream",
          "name": "stdout",
          "text": [
            "[('item3', '24.5'), ('item2', '15.10'), ('item1', '12.20')]\n"
          ]
        }
      ]
    }
  ]
}