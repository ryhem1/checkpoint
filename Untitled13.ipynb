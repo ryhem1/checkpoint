{
  "nbformat": 4,
  "nbformat_minor": 0,
  "metadata": {
    "colab": {
      "name": "Untitled13.ipynb",
      "provenance": [],
      "collapsed_sections": [],
      "authorship_tag": "ABX9TyPLv7uGJISKu8vkxAl3baZF",
      "include_colab_link": true
    },
    "kernelspec": {
      "name": "python3",
      "display_name": "Python 3"
    },
    "language_info": {
      "name": "python"
    }
  },
  "cells": [
    {
      "cell_type": "markdown",
      "metadata": {
        "id": "view-in-github",
        "colab_type": "text"
      },
      "source": [
        "<a href=\"https://colab.research.google.com/github/ryhem1/checkpoint/blob/main/Untitled13.ipynb\" target=\"_parent\"><img src=\"https://colab.research.google.com/assets/colab-badge.svg\" alt=\"Open In Colab\"/></a>"
      ]
    },
    {
      "cell_type": "code",
      "execution_count": null,
      "metadata": {
        "colab": {
          "base_uri": "https://localhost:8080/"
        },
        "id": "dPNwdMLHS5oj",
        "outputId": "d47bb5d8-11a5-4523-a212-b3480f02566b"
      },
      "outputs": [
        {
          "output_type": "stream",
          "name": "stdout",
          "text": [
            "Enter the time in seconds: 4\n",
            "Fire in the hole!!\n"
          ]
        }
      ],
      "source": [
        "import time\n",
        "def countdown(t):\n",
        "\t\n",
        "\twhile t:\n",
        "\t\tmins, secs = divmod(t, 60)\n",
        "\t\ttimer = '{:02d}:{:02d}'.format(mins, secs)\n",
        "\t\tprint(timer, end=\"\\r\")\n",
        "\t\ttime.sleep(1)\n",
        "\t\tt -= 1\n",
        "\t\n",
        "\tprint('Fire in the hole!!')\n",
        "t = input(\"Enter the time in seconds: \")\n",
        "countdown(int(t))"
      ]
    }
  ]
}