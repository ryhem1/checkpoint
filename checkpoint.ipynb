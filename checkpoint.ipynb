{
  "nbformat": 4,
  "nbformat_minor": 0,
  "metadata": {
    "colab": {
      "name": "checkpoint",
      "provenance": [],
      "collapsed_sections": []
    },
    "kernelspec": {
      "name": "python3",
      "display_name": "Python 3"
    },
    "language_info": {
      "name": "python"
    }
  },
  "cells": [
    {
      "cell_type": "code",
      "metadata": {
        "id": "nCT9MrcgoC8T"
      },
      "source": [
        "firstname = input(\"donner votre nom\\n\")\n",
        "lastname = input(\"donner votre prenom\\n\")\n",
        "print(lastname + \" \" + firstname)"
      ],
      "execution_count": null,
      "outputs": []
    },
    {
      "cell_type": "code",
      "metadata": {
        "id": "mUwcGqi13zMs"
      },
      "source": [
        "n=int(input(\"donner un entier\\n\"))\n",
        "n0=str(n)\n",
        "n1=n0+n0\n",
        "n2=n0+n0+n0\n",
        "result=n+int(n1)+int(n2)\n",
        "print(result)"
      ],
      "execution_count": null,
      "outputs": []
    },
    {
      "cell_type": "code",
      "metadata": {
        "id": "_-JLXnY-BQjH"
      },
      "source": [
        "nb=int(input(\"donner un nombre \"))\n",
        "if (nb%2)==0:\n",
        "  print(nb,\" est pair\")\n",
        "else :\n",
        "  print(nb,\" est impair\")"
      ],
      "execution_count": null,
      "outputs": []
    },
    {
      "cell_type": "code",
      "metadata": {
        "id": "AgESKSwfcGqE"
      },
      "source": [
        "#begin\n",
        "for i in range(2000,3200):\n",
        "  if (i%7)==0 and (i%5)!=0:\n",
        "    print(i,end=\" \")\n",
        "#end"
      ],
      "execution_count": null,
      "outputs": []
    },
    {
      "cell_type": "code",
      "metadata": {
        "id": "8SHHY0wyfGFf"
      },
      "source": [
        "string=str(input(\"donner une chaine de caractére \"))\n",
        "print(string[0: :2])"
      ],
      "execution_count": null,
      "outputs": []
    },
    {
      "cell_type": "code",
      "metadata": {
        "id": "icL745QEo4nT"
      },
      "source": [
        "price=int(input(\"donner une valeur \"))\n",
        "if(price>=500):\n",
        "  print(\"you got a 50% discount\")\n",
        "elif(200<=price<500):\n",
        "  print(\"you got a 30% discount\")\n",
        "else:\n",
        "  print(\"you got a 10% discount\")"
      ],
      "execution_count": null,
      "outputs": []
    }
  ]
}