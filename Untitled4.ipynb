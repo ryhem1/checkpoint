{
  "nbformat": 4,
  "nbformat_minor": 0,
  "metadata": {
    "colab": {
      "name": "Untitled4.ipynb",
      "provenance": [],
      "collapsed_sections": [],
      "authorship_tag": "ABX9TyMdRCcfFSpGVTmMypX+veut",
      "include_colab_link": true
    },
    "kernelspec": {
      "name": "python3",
      "display_name": "Python 3"
    },
    "language_info": {
      "name": "python"
    }
  },
  "cells": [
    {
      "cell_type": "markdown",
      "metadata": {
        "id": "view-in-github",
        "colab_type": "text"
      },
      "source": [
        "<a href=\"https://colab.research.google.com/github/ryhem1/checkpoint/blob/main/Untitled4.ipynb\" target=\"_parent\"><img src=\"https://colab.research.google.com/assets/colab-badge.svg\" alt=\"Open In Colab\"/></a>"
      ]
    },
    {
      "cell_type": "code",
      "execution_count": null,
      "metadata": {
        "id": "wJPms-Wr4ihj"
      },
      "outputs": [],
      "source": [
        "def Max(a,b,c):\n",
        "  if a>b and a>c:\n",
        "    return(a)\n",
        "  if b>a and b>c:\n",
        "    return(b)\n",
        "  else:\n",
        "    return(c)"
      ]
    },
    {
      "cell_type": "code",
      "source": [
        "Max(54,85,99)"
      ],
      "metadata": {
        "colab": {
          "base_uri": "https://localhost:8080/"
        },
        "id": "gvJfu8ol5YoV",
        "outputId": "50bce2f4-2ccb-44e4-974c-a443d7dac75a"
      },
      "execution_count": null,
      "outputs": [
        {
          "output_type": "execute_result",
          "data": {
            "text/plain": [
              "99"
            ]
          },
          "metadata": {},
          "execution_count": 30
        }
      ]
    },
    {
      "cell_type": "code",
      "source": [
        "def calculation(r,k):\n",
        " return(r+k),(r-k)"
      ],
      "metadata": {
        "id": "i7zX10aPFoqo"
      },
      "execution_count": null,
      "outputs": []
    },
    {
      "cell_type": "code",
      "source": [
        "calculation(40,10)"
      ],
      "metadata": {
        "colab": {
          "base_uri": "https://localhost:8080/"
        },
        "id": "HKDA7e84HGfX",
        "outputId": "dccfe2f3-effb-4f2d-e7c2-8bdfeeb88d3b"
      },
      "execution_count": null,
      "outputs": [
        {
          "output_type": "execute_result",
          "data": {
            "text/plain": [
              "(50, 30)"
            ]
          },
          "metadata": {},
          "execution_count": 42
        }
      ]
    },
    {
      "cell_type": "code",
      "source": [
        "colors=input(\"donner \")\n",
        "col=colors.split(\"-\")\n",
        "col.sort()\n",
        "col=(\"-\").join(col)\n",
        "col"
      ],
      "metadata": {
        "colab": {
          "base_uri": "https://localhost:8080/",
          "height": 53
        },
        "id": "opbNfRVAVlkZ",
        "outputId": "4f48f7a3-e8ad-427d-9a41-648d909644e6"
      },
      "execution_count": 1,
      "outputs": [
        {
          "name": "stdout",
          "output_type": "stream",
          "text": [
            "donner green-red-yellow-black-white\n"
          ]
        },
        {
          "output_type": "execute_result",
          "data": {
            "application/vnd.google.colaboratory.intrinsic+json": {
              "type": "string"
            },
            "text/plain": [
              "'black-green-red-white-yellow'"
            ]
          },
          "metadata": {},
          "execution_count": 1
        }
      ]
    },
    {
      "cell_type": "code",
      "source": [
        "s=input(\"donner \")\n",
        "s=s.split(', ')\n",
        "c=50\n",
        "h=30\n",
        "from math import sqrt\n",
        "q=[]\n",
        "for i in s:\n",
        "    j= round(sqrt((2*c*int(i))/h))\n",
        "    q.append(j)\n",
        "q   "
      ],
      "metadata": {
        "id": "y8c-6fflY_0v"
      },
      "execution_count": null,
      "outputs": []
    }
  ]
}