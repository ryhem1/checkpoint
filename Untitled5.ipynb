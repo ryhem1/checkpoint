{
  "nbformat": 4,
  "nbformat_minor": 0,
  "metadata": {
    "colab": {
      "name": "Untitled5.ipynb",
      "provenance": [],
      "collapsed_sections": [],
      "authorship_tag": "ABX9TyOnOt4sX1p42CHvBCIDTI0E",
      "include_colab_link": true
    },
    "kernelspec": {
      "name": "python3",
      "display_name": "Python 3"
    },
    "language_info": {
      "name": "python"
    }
  },
  "cells": [
    {
      "cell_type": "markdown",
      "metadata": {
        "id": "view-in-github",
        "colab_type": "text"
      },
      "source": [
        "<a href=\"https://colab.research.google.com/github/ryhem1/checkpoint/blob/main/Untitled5.ipynb\" target=\"_parent\"><img src=\"https://colab.research.google.com/assets/colab-badge.svg\" alt=\"Open In Colab\"/></a>"
      ]
    },
    {
      "cell_type": "code",
      "execution_count": null,
      "metadata": {
        "colab": {
          "base_uri": "https://localhost:8080/"
        },
        "id": "NoQ8uMsroUqV",
        "outputId": "71428f75-2d08-4219-aead-ca7f416b10ae"
      },
      "outputs": [
        {
          "output_type": "stream",
          "name": "stdout",
          "text": [
            "1 2 3\n"
          ]
        }
      ],
      "source": [
        "class Point3D:\n",
        "    def __init__(self,x,y,z):\n",
        "        self.x = x\n",
        "        self.y = y\n",
        "        self.z = z\n",
        "    def func(self):\n",
        "       print(self.x,self.y,self.z)\n",
        "my_point= Point3D(1,2,3)\n",
        "my_point.func()"
      ]
    },
    {
      "cell_type": "code",
      "source": [
        "class Rectangle:\n",
        "  def __init__(self,length,width): \n",
        "    self.length= length\n",
        "    self.width= width\n",
        "  def area(self):\n",
        "    print (self.length*self.width)\n",
        "  def peremeter(self):\n",
        "    print (2*(self.length+self.width))\n",
        "my_Rectangle=Rectangle(4,3)\n",
        "my_Rectangle.area()\n",
        "my_Rectangle.peremeter()\n",
        "\n"
      ],
      "metadata": {
        "id": "uDSXjoPutheW",
        "colab": {
          "base_uri": "https://localhost:8080/"
        },
        "outputId": "1e73c0c0-bae4-440a-8258-66a4a9e13a93"
      },
      "execution_count": 6,
      "outputs": [
        {
          "output_type": "stream",
          "name": "stdout",
          "text": [
            "12\n",
            "14\n"
          ]
        }
      ]
    },
    {
      "cell_type": "code",
      "source": [
        "import math\n",
        "class Circle:\n",
        "    def __init__(self,xO,yO,r):\n",
        "      self.xO= xO\n",
        "      self.yO=yO\n",
        "      self.r= r\n",
        "    def area(self):\n",
        "      print(self.r**2*math.pi)\n",
        "    def perimeter(self):\n",
        "      print(self.r*2*math.pi)\n",
        "    def isInside(self,x,y):\n",
        "      if math.sqrt((x-self.xO)**2+(y-self.yO)**2)<self.r:\n",
        "         print(\"A is inside the circle\")\n",
        "      elif math.sqrt((x-self.xO)**2+(y-selfyO)**2)>self.r:\n",
        "         print(\"A is outside the circle\")\n",
        "      else:\n",
        "        print(\"A is tangent to the circle\")\n",
        "C=Circle(2,2,4)\n",
        "C.area()\n",
        "C.perimeter()\n",
        "C.isInside(0,2)\n",
        "\n",
        "\n",
        "  \n"
      ],
      "metadata": {
        "colab": {
          "base_uri": "https://localhost:8080/"
        },
        "id": "KO6e6uar-UsU",
        "outputId": "309c2832-c6f6-44f3-e3dd-75ef6d8ead20"
      },
      "execution_count": 28,
      "outputs": [
        {
          "output_type": "stream",
          "name": "stdout",
          "text": [
            "50.26548245743669\n",
            "25.132741228718345\n",
            "A is inside the circle\n"
          ]
        }
      ]
    },
    {
      "cell_type": "code",
      "source": [
        "class Bank:\n",
        "  def __init__(self,montant):\n",
        "     self.montant= montant\n",
        "  def deposit(self,d):\n",
        "     print(self.montant+d)\n",
        "  def withdraw(self,w):\n",
        "     print(self.montant-w)\n",
        "the_amount=Bank(5000)\n",
        "the_amount.deposit(500)\n",
        "the_amount.withdraw(100)"
      ],
      "metadata": {
        "colab": {
          "base_uri": "https://localhost:8080/"
        },
        "id": "tevSwFDjDEmv",
        "outputId": "73fd6459-1f03-450b-c161-1ffe0cea3a99"
      },
      "execution_count": 8,
      "outputs": [
        {
          "output_type": "stream",
          "name": "stdout",
          "text": [
            "5500\n",
            "4900\n"
          ]
        }
      ]
    }
  ]
}